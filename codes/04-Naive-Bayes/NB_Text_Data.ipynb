{
 "cells": [
  {
   "cell_type": "markdown",
   "metadata": {},
   "source": [
    "## Naïve Bayes in Python with Labeled Text Data\n",
    "\n",
    "### Introduction\n",
    "In this page, I will apply Multinomial Naïve Bayes model to the clean, labeled text data using sklearn package. The reason why I chose to use Multinomial Naïve Bayes is because it is suitable for word count frequency analysis due to its discrete feature. The code of applying and training the model is also included in this page."
   ]
  },
  {
   "cell_type": "code",
   "execution_count": 2,
   "metadata": {},
   "outputs": [],
   "source": [
    "# import relevant packages\n",
    "import pandas as pd\n",
    "import numpy as np\n",
    "import matplotlib as mpl\n",
    "import matplotlib.pyplot as plt\n",
    "import seaborn as sns\n",
    "from sklearn.naive_bayes import MultinomialNB, BernoulliNB, GaussianNB, ComplementNB\n",
    "from sklearn.model_selection import train_test_split"
   ]
  },
  {
   "cell_type": "markdown",
   "metadata": {},
   "source": [
    "### Data Preparation\n",
    "The text data used for Multinomial Naïve Bayes model are Twitter responses (Tweets) that were pulled from Twitter using Twitter API in the data gathering section. The Tweets content were cleaned, and labeled as either \"neutral\", \"positive\", or \"negative\" based on the sentiment analysis compound score of the Tweet text. A snapshot of the clean, labeled text data can be found below:"
   ]
  },
  {
   "cell_type": "code",
   "execution_count": 3,
   "metadata": {},
   "outputs": [
    {
     "data": {
      "text/html": [
       "<div>\n",
       "<style scoped>\n",
       "    .dataframe tbody tr th:only-of-type {\n",
       "        vertical-align: middle;\n",
       "    }\n",
       "\n",
       "    .dataframe tbody tr th {\n",
       "        vertical-align: top;\n",
       "    }\n",
       "\n",
       "    .dataframe thead th {\n",
       "        text-align: right;\n",
       "    }\n",
       "</style>\n",
       "<table border=\"1\" class=\"dataframe\">\n",
       "  <thead>\n",
       "    <tr style=\"text-align: right;\">\n",
       "      <th></th>\n",
       "      <th>author_id</th>\n",
       "      <th>id</th>\n",
       "      <th>created_at</th>\n",
       "      <th>text</th>\n",
       "      <th>clean_text</th>\n",
       "      <th>tweet_tokenized</th>\n",
       "      <th>tweet_nonstop</th>\n",
       "      <th>tweet_stemmed</th>\n",
       "      <th>tweet_lemmatized</th>\n",
       "      <th>sentiment</th>\n",
       "      <th>label</th>\n",
       "    </tr>\n",
       "  </thead>\n",
       "  <tbody>\n",
       "    <tr>\n",
       "      <th>0</th>\n",
       "      <td>1116548763168858112</td>\n",
       "      <td>1575191634026717184</td>\n",
       "      <td>2022-09-28T18:32:05.000Z</td>\n",
       "      <td>RT @VSkirbekk: Gradual convergence in fertilit...</td>\n",
       "      <td>gradual convergence fertility between china we...</td>\n",
       "      <td>['gradual', 'convergence', 'fertility', 'betwe...</td>\n",
       "      <td>['gradual', 'convergence', 'fertility', 'china...</td>\n",
       "      <td>['gradual', 'converg', 'fertil', 'china', 'wes...</td>\n",
       "      <td>['gradual', 'convergence', 'fertility', 'china...</td>\n",
       "      <td>0.0000</td>\n",
       "      <td>neutral</td>\n",
       "    </tr>\n",
       "    <tr>\n",
       "      <th>1</th>\n",
       "      <td>1364997075851599873</td>\n",
       "      <td>1575190110920114178</td>\n",
       "      <td>2022-09-28T18:26:02.000Z</td>\n",
       "      <td>RT @nytimes: South Korea has had the world's l...</td>\n",
       "      <td>south korea world lowest total fertility rate ...</td>\n",
       "      <td>['south', 'korea', 'world', 'lowest', 'total',...</td>\n",
       "      <td>['south', 'korea', 'world', 'lowest', 'total',...</td>\n",
       "      <td>['south', 'korea', 'world', 'lowest', 'total',...</td>\n",
       "      <td>['south', 'korea', 'world', 'lowest', 'total',...</td>\n",
       "      <td>0.2415</td>\n",
       "      <td>positive</td>\n",
       "    </tr>\n",
       "    <tr>\n",
       "      <th>2</th>\n",
       "      <td>1231317688288468994</td>\n",
       "      <td>1575189759550693377</td>\n",
       "      <td>2022-09-28T18:24:38.000Z</td>\n",
       "      <td>RT @nytimes: South Korea has had the world's l...</td>\n",
       "      <td>south korea world lowest total fertility rate ...</td>\n",
       "      <td>['south', 'korea', 'world', 'lowest', 'total',...</td>\n",
       "      <td>['south', 'korea', 'world', 'lowest', 'total',...</td>\n",
       "      <td>['south', 'korea', 'world', 'lowest', 'total',...</td>\n",
       "      <td>['south', 'korea', 'world', 'lowest', 'total',...</td>\n",
       "      <td>0.2415</td>\n",
       "      <td>positive</td>\n",
       "    </tr>\n",
       "    <tr>\n",
       "      <th>3</th>\n",
       "      <td>780710885186674688</td>\n",
       "      <td>1575188100078133248</td>\n",
       "      <td>2022-09-28T18:18:03.000Z</td>\n",
       "      <td>RT @nytimes: South Korea has had the world's l...</td>\n",
       "      <td>south korea world lowest total fertility rate ...</td>\n",
       "      <td>['south', 'korea', 'world', 'lowest', 'total',...</td>\n",
       "      <td>['south', 'korea', 'world', 'lowest', 'total',...</td>\n",
       "      <td>['south', 'korea', 'world', 'lowest', 'total',...</td>\n",
       "      <td>['south', 'korea', 'world', 'lowest', 'total',...</td>\n",
       "      <td>0.2415</td>\n",
       "      <td>positive</td>\n",
       "    </tr>\n",
       "    <tr>\n",
       "      <th>4</th>\n",
       "      <td>178464094</td>\n",
       "      <td>1575186284808531969</td>\n",
       "      <td>2022-09-28T18:10:50.000Z</td>\n",
       "      <td>RT @koryodynasty: Always trust men to come up ...</td>\n",
       "      <td>always trust come with policies women this cas...</td>\n",
       "      <td>['always', 'trust', 'come', 'with', 'policies'...</td>\n",
       "      <td>['always', 'trust', 'come', 'policies', 'women...</td>\n",
       "      <td>['alway', 'trust', 'come', 'polici', 'women', ...</td>\n",
       "      <td>['always', 'trust', 'come', 'policy', 'woman',...</td>\n",
       "      <td>0.7184</td>\n",
       "      <td>positive</td>\n",
       "    </tr>\n",
       "  </tbody>\n",
       "</table>\n",
       "</div>"
      ],
      "text/plain": [
       "             author_id                   id                created_at  \\\n",
       "0  1116548763168858112  1575191634026717184  2022-09-28T18:32:05.000Z   \n",
       "1  1364997075851599873  1575190110920114178  2022-09-28T18:26:02.000Z   \n",
       "2  1231317688288468994  1575189759550693377  2022-09-28T18:24:38.000Z   \n",
       "3   780710885186674688  1575188100078133248  2022-09-28T18:18:03.000Z   \n",
       "4            178464094  1575186284808531969  2022-09-28T18:10:50.000Z   \n",
       "\n",
       "                                                text  \\\n",
       "0  RT @VSkirbekk: Gradual convergence in fertilit...   \n",
       "1  RT @nytimes: South Korea has had the world's l...   \n",
       "2  RT @nytimes: South Korea has had the world's l...   \n",
       "3  RT @nytimes: South Korea has had the world's l...   \n",
       "4  RT @koryodynasty: Always trust men to come up ...   \n",
       "\n",
       "                                          clean_text  \\\n",
       "0  gradual convergence fertility between china we...   \n",
       "1  south korea world lowest total fertility rate ...   \n",
       "2  south korea world lowest total fertility rate ...   \n",
       "3  south korea world lowest total fertility rate ...   \n",
       "4  always trust come with policies women this cas...   \n",
       "\n",
       "                                     tweet_tokenized  \\\n",
       "0  ['gradual', 'convergence', 'fertility', 'betwe...   \n",
       "1  ['south', 'korea', 'world', 'lowest', 'total',...   \n",
       "2  ['south', 'korea', 'world', 'lowest', 'total',...   \n",
       "3  ['south', 'korea', 'world', 'lowest', 'total',...   \n",
       "4  ['always', 'trust', 'come', 'with', 'policies'...   \n",
       "\n",
       "                                       tweet_nonstop  \\\n",
       "0  ['gradual', 'convergence', 'fertility', 'china...   \n",
       "1  ['south', 'korea', 'world', 'lowest', 'total',...   \n",
       "2  ['south', 'korea', 'world', 'lowest', 'total',...   \n",
       "3  ['south', 'korea', 'world', 'lowest', 'total',...   \n",
       "4  ['always', 'trust', 'come', 'policies', 'women...   \n",
       "\n",
       "                                       tweet_stemmed  \\\n",
       "0  ['gradual', 'converg', 'fertil', 'china', 'wes...   \n",
       "1  ['south', 'korea', 'world', 'lowest', 'total',...   \n",
       "2  ['south', 'korea', 'world', 'lowest', 'total',...   \n",
       "3  ['south', 'korea', 'world', 'lowest', 'total',...   \n",
       "4  ['alway', 'trust', 'come', 'polici', 'women', ...   \n",
       "\n",
       "                                    tweet_lemmatized  sentiment     label  \n",
       "0  ['gradual', 'convergence', 'fertility', 'china...     0.0000   neutral  \n",
       "1  ['south', 'korea', 'world', 'lowest', 'total',...     0.2415  positive  \n",
       "2  ['south', 'korea', 'world', 'lowest', 'total',...     0.2415  positive  \n",
       "3  ['south', 'korea', 'world', 'lowest', 'total',...     0.2415  positive  \n",
       "4  ['always', 'trust', 'come', 'policy', 'woman',...     0.7184  positive  "
      ]
     },
     "execution_count": 3,
     "metadata": {},
     "output_type": "execute_result"
    }
   ],
   "source": [
    "# import cleaned text data file as pandas DataFrame\n",
    "tweets_df = pd.read_csv(\"../../data/01-modified-data/tweetEN_clean.csv\")\n",
    "tweets_df.head()"
   ]
  },
  {
   "cell_type": "markdown",
   "metadata": {},
   "source": [
    "For this part, only \"author_id\", \"id\", \"clean_text\", \"label\" are needed for training the model. Therefore, I created a new DataFrame with only these attributes included."
   ]
  },
  {
   "cell_type": "code",
   "execution_count": 4,
   "metadata": {},
   "outputs": [
    {
     "data": {
      "text/html": [
       "<div>\n",
       "<style scoped>\n",
       "    .dataframe tbody tr th:only-of-type {\n",
       "        vertical-align: middle;\n",
       "    }\n",
       "\n",
       "    .dataframe tbody tr th {\n",
       "        vertical-align: top;\n",
       "    }\n",
       "\n",
       "    .dataframe thead th {\n",
       "        text-align: right;\n",
       "    }\n",
       "</style>\n",
       "<table border=\"1\" class=\"dataframe\">\n",
       "  <thead>\n",
       "    <tr style=\"text-align: right;\">\n",
       "      <th></th>\n",
       "      <th>author_id</th>\n",
       "      <th>id</th>\n",
       "      <th>clean_text</th>\n",
       "      <th>label</th>\n",
       "    </tr>\n",
       "  </thead>\n",
       "  <tbody>\n",
       "    <tr>\n",
       "      <th>0</th>\n",
       "      <td>1116548763168858112</td>\n",
       "      <td>1575191634026717184</td>\n",
       "      <td>gradual convergence fertility between china we...</td>\n",
       "      <td>neutral</td>\n",
       "    </tr>\n",
       "    <tr>\n",
       "      <th>1</th>\n",
       "      <td>1364997075851599873</td>\n",
       "      <td>1575190110920114178</td>\n",
       "      <td>south korea world lowest total fertility rate ...</td>\n",
       "      <td>positive</td>\n",
       "    </tr>\n",
       "    <tr>\n",
       "      <th>2</th>\n",
       "      <td>1231317688288468994</td>\n",
       "      <td>1575189759550693377</td>\n",
       "      <td>south korea world lowest total fertility rate ...</td>\n",
       "      <td>positive</td>\n",
       "    </tr>\n",
       "    <tr>\n",
       "      <th>3</th>\n",
       "      <td>780710885186674688</td>\n",
       "      <td>1575188100078133248</td>\n",
       "      <td>south korea world lowest total fertility rate ...</td>\n",
       "      <td>positive</td>\n",
       "    </tr>\n",
       "    <tr>\n",
       "      <th>4</th>\n",
       "      <td>178464094</td>\n",
       "      <td>1575186284808531969</td>\n",
       "      <td>always trust come with policies women this cas...</td>\n",
       "      <td>positive</td>\n",
       "    </tr>\n",
       "  </tbody>\n",
       "</table>\n",
       "</div>"
      ],
      "text/plain": [
       "             author_id                   id  \\\n",
       "0  1116548763168858112  1575191634026717184   \n",
       "1  1364997075851599873  1575190110920114178   \n",
       "2  1231317688288468994  1575189759550693377   \n",
       "3   780710885186674688  1575188100078133248   \n",
       "4            178464094  1575186284808531969   \n",
       "\n",
       "                                          clean_text     label  \n",
       "0  gradual convergence fertility between china we...   neutral  \n",
       "1  south korea world lowest total fertility rate ...  positive  \n",
       "2  south korea world lowest total fertility rate ...  positive  \n",
       "3  south korea world lowest total fertility rate ...  positive  \n",
       "4  always trust come with policies women this cas...  positive  "
      ]
     },
     "execution_count": 4,
     "metadata": {},
     "output_type": "execute_result"
    }
   ],
   "source": [
    "# create a clean tweets file with necessary attributes\n",
    "clean_tweets = tweets_df[['author_id', 'id', 'clean_text', 'label']]\n",
    "clean_tweets.head()"
   ]
  },
  {
   "cell_type": "markdown",
   "metadata": {},
   "source": [
    "Import the count vectorizer (word count) data of the Tweet data generated in the previous steps, and then concatenate the label column to the count vectorizer data frame as the last attribute. "
   ]
  },
  {
   "cell_type": "code",
   "execution_count": 7,
   "metadata": {},
   "outputs": [
    {
     "data": {
      "text/html": [
       "<div>\n",
       "<style scoped>\n",
       "    .dataframe tbody tr th:only-of-type {\n",
       "        vertical-align: middle;\n",
       "    }\n",
       "\n",
       "    .dataframe tbody tr th {\n",
       "        vertical-align: top;\n",
       "    }\n",
       "\n",
       "    .dataframe thead th {\n",
       "        text-align: right;\n",
       "    }\n",
       "</style>\n",
       "<table border=\"1\" class=\"dataframe\">\n",
       "  <thead>\n",
       "    <tr style=\"text-align: right;\">\n",
       "      <th></th>\n",
       "      <th>ability</th>\n",
       "      <th>able</th>\n",
       "      <th>abortion</th>\n",
       "      <th>abortions</th>\n",
       "      <th>about</th>\n",
       "      <th>above</th>\n",
       "      <th>abroad</th>\n",
       "      <th>abrupt</th>\n",
       "      <th>acclaimed</th>\n",
       "      <th>according</th>\n",
       "      <th>...</th>\n",
       "      <th>yorubas</th>\n",
       "      <th>young</th>\n",
       "      <th>younger</th>\n",
       "      <th>youngness</th>\n",
       "      <th>your</th>\n",
       "      <th>youth</th>\n",
       "      <th>zmianie</th>\n",
       "      <th>zoomers</th>\n",
       "      <th>zuki</th>\n",
       "      <th>label</th>\n",
       "    </tr>\n",
       "  </thead>\n",
       "  <tbody>\n",
       "    <tr>\n",
       "      <th>0</th>\n",
       "      <td>0</td>\n",
       "      <td>0</td>\n",
       "      <td>0</td>\n",
       "      <td>0</td>\n",
       "      <td>0</td>\n",
       "      <td>0</td>\n",
       "      <td>0</td>\n",
       "      <td>0</td>\n",
       "      <td>0</td>\n",
       "      <td>0</td>\n",
       "      <td>...</td>\n",
       "      <td>0</td>\n",
       "      <td>0</td>\n",
       "      <td>0</td>\n",
       "      <td>0</td>\n",
       "      <td>0</td>\n",
       "      <td>0</td>\n",
       "      <td>0</td>\n",
       "      <td>0</td>\n",
       "      <td>0</td>\n",
       "      <td>neutral</td>\n",
       "    </tr>\n",
       "    <tr>\n",
       "      <th>1</th>\n",
       "      <td>0</td>\n",
       "      <td>0</td>\n",
       "      <td>0</td>\n",
       "      <td>0</td>\n",
       "      <td>0</td>\n",
       "      <td>0</td>\n",
       "      <td>0</td>\n",
       "      <td>0</td>\n",
       "      <td>0</td>\n",
       "      <td>0</td>\n",
       "      <td>...</td>\n",
       "      <td>0</td>\n",
       "      <td>0</td>\n",
       "      <td>0</td>\n",
       "      <td>0</td>\n",
       "      <td>1</td>\n",
       "      <td>0</td>\n",
       "      <td>0</td>\n",
       "      <td>0</td>\n",
       "      <td>0</td>\n",
       "      <td>positive</td>\n",
       "    </tr>\n",
       "    <tr>\n",
       "      <th>2</th>\n",
       "      <td>0</td>\n",
       "      <td>0</td>\n",
       "      <td>0</td>\n",
       "      <td>0</td>\n",
       "      <td>0</td>\n",
       "      <td>0</td>\n",
       "      <td>0</td>\n",
       "      <td>0</td>\n",
       "      <td>0</td>\n",
       "      <td>0</td>\n",
       "      <td>...</td>\n",
       "      <td>0</td>\n",
       "      <td>0</td>\n",
       "      <td>0</td>\n",
       "      <td>0</td>\n",
       "      <td>0</td>\n",
       "      <td>0</td>\n",
       "      <td>0</td>\n",
       "      <td>0</td>\n",
       "      <td>0</td>\n",
       "      <td>positive</td>\n",
       "    </tr>\n",
       "    <tr>\n",
       "      <th>3</th>\n",
       "      <td>0</td>\n",
       "      <td>0</td>\n",
       "      <td>0</td>\n",
       "      <td>0</td>\n",
       "      <td>0</td>\n",
       "      <td>0</td>\n",
       "      <td>0</td>\n",
       "      <td>0</td>\n",
       "      <td>0</td>\n",
       "      <td>0</td>\n",
       "      <td>...</td>\n",
       "      <td>0</td>\n",
       "      <td>0</td>\n",
       "      <td>0</td>\n",
       "      <td>0</td>\n",
       "      <td>0</td>\n",
       "      <td>0</td>\n",
       "      <td>0</td>\n",
       "      <td>0</td>\n",
       "      <td>0</td>\n",
       "      <td>positive</td>\n",
       "    </tr>\n",
       "    <tr>\n",
       "      <th>4</th>\n",
       "      <td>0</td>\n",
       "      <td>0</td>\n",
       "      <td>0</td>\n",
       "      <td>0</td>\n",
       "      <td>0</td>\n",
       "      <td>0</td>\n",
       "      <td>0</td>\n",
       "      <td>0</td>\n",
       "      <td>0</td>\n",
       "      <td>0</td>\n",
       "      <td>...</td>\n",
       "      <td>0</td>\n",
       "      <td>0</td>\n",
       "      <td>0</td>\n",
       "      <td>0</td>\n",
       "      <td>0</td>\n",
       "      <td>0</td>\n",
       "      <td>0</td>\n",
       "      <td>0</td>\n",
       "      <td>0</td>\n",
       "      <td>positive</td>\n",
       "    </tr>\n",
       "  </tbody>\n",
       "</table>\n",
       "<p>5 rows × 1671 columns</p>\n",
       "</div>"
      ],
      "text/plain": [
       "   ability  able  abortion  abortions  about  above  abroad  abrupt  \\\n",
       "0        0     0         0          0      0      0       0       0   \n",
       "1        0     0         0          0      0      0       0       0   \n",
       "2        0     0         0          0      0      0       0       0   \n",
       "3        0     0         0          0      0      0       0       0   \n",
       "4        0     0         0          0      0      0       0       0   \n",
       "\n",
       "   acclaimed  according  ...  yorubas  young  younger  youngness  your  youth  \\\n",
       "0          0          0  ...        0      0        0          0     0      0   \n",
       "1          0          0  ...        0      0        0          0     1      0   \n",
       "2          0          0  ...        0      0        0          0     0      0   \n",
       "3          0          0  ...        0      0        0          0     0      0   \n",
       "4          0          0  ...        0      0        0          0     0      0   \n",
       "\n",
       "   zmianie  zoomers  zuki     label  \n",
       "0        0        0     0   neutral  \n",
       "1        0        0     0  positive  \n",
       "2        0        0     0  positive  \n",
       "3        0        0     0  positive  \n",
       "4        0        0     0  positive  \n",
       "\n",
       "[5 rows x 1671 columns]"
      ]
     },
     "execution_count": 7,
     "metadata": {},
     "output_type": "execute_result"
    }
   ],
   "source": [
    "# import the count vectorizer cdv file as pandas DataFrame and add labels\n",
    "vector_df = pd.read_csv('../../data/01-modified-data/tweetEN_CountVectorizer.csv')\n",
    "vector_df['label'] = tweets_df[['label']]\n",
    "vector_df.head()"
   ]
  },
  {
   "cell_type": "markdown",
   "metadata": {},
   "source": [
    "Input matrix X is the count vectorizer data without the label column. Output matrix y is the label column. "
   ]
  },
  {
   "cell_type": "code",
   "execution_count": 8,
   "metadata": {},
   "outputs": [
    {
     "name": "stdout",
     "output_type": "stream",
     "text": [
      "Shape of X: (265, 1670)\n",
      "Shape of y: (265,)\n"
     ]
    }
   ],
   "source": [
    "X =  vector_df.loc[:, vector_df.columns != 'label']\n",
    "y = vector_df.loc[:, 'label']\n",
    "print('Shape of X:', X.shape)\n",
    "print('Shape of y:', y.shape)"
   ]
  },
  {
   "cell_type": "markdown",
   "metadata": {},
   "source": [
    "Partition data into training set and testing set using the 80/20 split method. "
   ]
  },
  {
   "cell_type": "code",
   "execution_count": 53,
   "metadata": {},
   "outputs": [
    {
     "name": "stdout",
     "output_type": "stream",
     "text": [
      "X_train.shape\t\t: (212, 1670)\n",
      "y_train.shape\t\t: (212,)\n",
      "X_test.shape\t\t: (53, 1670)\n",
      "y_test.shape\t\t: (53,)\n"
     ]
    }
   ],
   "source": [
    "test_ratio = 0.2\n",
    "X_train, X_test, y_train, y_test = train_test_split(X, y, test_size = test_ratio, random_state = 0)\n",
    "\n",
    "print('X_train.shape\t\t:', X_train.shape)\n",
    "print('y_train.shape\t\t:', y_train.shape)\n",
    "print('X_test.shape\t\t:', X_test.shape)\n",
    "print('y_test.shape\t\t:', y_test.shape)"
   ]
  },
  {
   "cell_type": "markdown",
   "metadata": {},
   "source": [
    "A snapshot of the training and testing data"
   ]
  },
  {
   "cell_type": "code",
   "execution_count": 54,
   "metadata": {},
   "outputs": [
    {
     "name": "stdout",
     "output_type": "stream",
     "text": [
      "------------------- X_train -------------------\n"
     ]
    },
    {
     "data": {
      "text/html": [
       "<div>\n",
       "<style scoped>\n",
       "    .dataframe tbody tr th:only-of-type {\n",
       "        vertical-align: middle;\n",
       "    }\n",
       "\n",
       "    .dataframe tbody tr th {\n",
       "        vertical-align: top;\n",
       "    }\n",
       "\n",
       "    .dataframe thead th {\n",
       "        text-align: right;\n",
       "    }\n",
       "</style>\n",
       "<table border=\"1\" class=\"dataframe\">\n",
       "  <thead>\n",
       "    <tr style=\"text-align: right;\">\n",
       "      <th></th>\n",
       "      <th>ability</th>\n",
       "      <th>able</th>\n",
       "      <th>abortion</th>\n",
       "      <th>abortions</th>\n",
       "      <th>about</th>\n",
       "      <th>above</th>\n",
       "      <th>abroad</th>\n",
       "      <th>abrupt</th>\n",
       "      <th>acclaimed</th>\n",
       "      <th>according</th>\n",
       "      <th>...</th>\n",
       "      <th>yoruba</th>\n",
       "      <th>yorubas</th>\n",
       "      <th>young</th>\n",
       "      <th>younger</th>\n",
       "      <th>youngness</th>\n",
       "      <th>your</th>\n",
       "      <th>youth</th>\n",
       "      <th>zmianie</th>\n",
       "      <th>zoomers</th>\n",
       "      <th>zuki</th>\n",
       "    </tr>\n",
       "  </thead>\n",
       "  <tbody>\n",
       "    <tr>\n",
       "      <th>196</th>\n",
       "      <td>0</td>\n",
       "      <td>0</td>\n",
       "      <td>0</td>\n",
       "      <td>0</td>\n",
       "      <td>0</td>\n",
       "      <td>0</td>\n",
       "      <td>0</td>\n",
       "      <td>0</td>\n",
       "      <td>0</td>\n",
       "      <td>0</td>\n",
       "      <td>...</td>\n",
       "      <td>0</td>\n",
       "      <td>0</td>\n",
       "      <td>0</td>\n",
       "      <td>0</td>\n",
       "      <td>0</td>\n",
       "      <td>0</td>\n",
       "      <td>0</td>\n",
       "      <td>0</td>\n",
       "      <td>0</td>\n",
       "      <td>0</td>\n",
       "    </tr>\n",
       "    <tr>\n",
       "      <th>55</th>\n",
       "      <td>0</td>\n",
       "      <td>0</td>\n",
       "      <td>0</td>\n",
       "      <td>0</td>\n",
       "      <td>0</td>\n",
       "      <td>1</td>\n",
       "      <td>0</td>\n",
       "      <td>0</td>\n",
       "      <td>0</td>\n",
       "      <td>0</td>\n",
       "      <td>...</td>\n",
       "      <td>0</td>\n",
       "      <td>0</td>\n",
       "      <td>0</td>\n",
       "      <td>0</td>\n",
       "      <td>0</td>\n",
       "      <td>0</td>\n",
       "      <td>0</td>\n",
       "      <td>0</td>\n",
       "      <td>0</td>\n",
       "      <td>0</td>\n",
       "    </tr>\n",
       "    <tr>\n",
       "      <th>157</th>\n",
       "      <td>0</td>\n",
       "      <td>0</td>\n",
       "      <td>0</td>\n",
       "      <td>0</td>\n",
       "      <td>0</td>\n",
       "      <td>0</td>\n",
       "      <td>0</td>\n",
       "      <td>0</td>\n",
       "      <td>0</td>\n",
       "      <td>0</td>\n",
       "      <td>...</td>\n",
       "      <td>0</td>\n",
       "      <td>0</td>\n",
       "      <td>0</td>\n",
       "      <td>0</td>\n",
       "      <td>0</td>\n",
       "      <td>0</td>\n",
       "      <td>0</td>\n",
       "      <td>0</td>\n",
       "      <td>0</td>\n",
       "      <td>0</td>\n",
       "    </tr>\n",
       "  </tbody>\n",
       "</table>\n",
       "<p>3 rows × 1670 columns</p>\n",
       "</div>"
      ],
      "text/plain": [
       "     ability  able  abortion  abortions  about  above  abroad  abrupt  \\\n",
       "196        0     0         0          0      0      0       0       0   \n",
       "55         0     0         0          0      0      1       0       0   \n",
       "157        0     0         0          0      0      0       0       0   \n",
       "\n",
       "     acclaimed  according  ...  yoruba  yorubas  young  younger  youngness  \\\n",
       "196          0          0  ...       0        0      0        0          0   \n",
       "55           0          0  ...       0        0      0        0          0   \n",
       "157          0          0  ...       0        0      0        0          0   \n",
       "\n",
       "     your  youth  zmianie  zoomers  zuki  \n",
       "196     0      0        0        0     0  \n",
       "55      0      0        0        0     0  \n",
       "157     0      0        0        0     0  \n",
       "\n",
       "[3 rows x 1670 columns]"
      ]
     },
     "execution_count": 54,
     "metadata": {},
     "output_type": "execute_result"
    }
   ],
   "source": [
    "print('------------------- X_train -------------------')\n",
    "X_train.head(3)"
   ]
  },
  {
   "cell_type": "code",
   "execution_count": 55,
   "metadata": {},
   "outputs": [
    {
     "name": "stdout",
     "output_type": "stream",
     "text": [
      "------------------- X_test -------------------\n"
     ]
    },
    {
     "data": {
      "text/html": [
       "<div>\n",
       "<style scoped>\n",
       "    .dataframe tbody tr th:only-of-type {\n",
       "        vertical-align: middle;\n",
       "    }\n",
       "\n",
       "    .dataframe tbody tr th {\n",
       "        vertical-align: top;\n",
       "    }\n",
       "\n",
       "    .dataframe thead th {\n",
       "        text-align: right;\n",
       "    }\n",
       "</style>\n",
       "<table border=\"1\" class=\"dataframe\">\n",
       "  <thead>\n",
       "    <tr style=\"text-align: right;\">\n",
       "      <th></th>\n",
       "      <th>ability</th>\n",
       "      <th>able</th>\n",
       "      <th>abortion</th>\n",
       "      <th>abortions</th>\n",
       "      <th>about</th>\n",
       "      <th>above</th>\n",
       "      <th>abroad</th>\n",
       "      <th>abrupt</th>\n",
       "      <th>acclaimed</th>\n",
       "      <th>according</th>\n",
       "      <th>...</th>\n",
       "      <th>yoruba</th>\n",
       "      <th>yorubas</th>\n",
       "      <th>young</th>\n",
       "      <th>younger</th>\n",
       "      <th>youngness</th>\n",
       "      <th>your</th>\n",
       "      <th>youth</th>\n",
       "      <th>zmianie</th>\n",
       "      <th>zoomers</th>\n",
       "      <th>zuki</th>\n",
       "    </tr>\n",
       "  </thead>\n",
       "  <tbody>\n",
       "    <tr>\n",
       "      <th>110</th>\n",
       "      <td>0</td>\n",
       "      <td>0</td>\n",
       "      <td>0</td>\n",
       "      <td>0</td>\n",
       "      <td>0</td>\n",
       "      <td>0</td>\n",
       "      <td>0</td>\n",
       "      <td>0</td>\n",
       "      <td>0</td>\n",
       "      <td>0</td>\n",
       "      <td>...</td>\n",
       "      <td>0</td>\n",
       "      <td>0</td>\n",
       "      <td>0</td>\n",
       "      <td>0</td>\n",
       "      <td>1</td>\n",
       "      <td>0</td>\n",
       "      <td>0</td>\n",
       "      <td>0</td>\n",
       "      <td>0</td>\n",
       "      <td>2</td>\n",
       "    </tr>\n",
       "    <tr>\n",
       "      <th>97</th>\n",
       "      <td>0</td>\n",
       "      <td>0</td>\n",
       "      <td>0</td>\n",
       "      <td>0</td>\n",
       "      <td>0</td>\n",
       "      <td>0</td>\n",
       "      <td>0</td>\n",
       "      <td>0</td>\n",
       "      <td>0</td>\n",
       "      <td>0</td>\n",
       "      <td>...</td>\n",
       "      <td>0</td>\n",
       "      <td>0</td>\n",
       "      <td>0</td>\n",
       "      <td>0</td>\n",
       "      <td>0</td>\n",
       "      <td>0</td>\n",
       "      <td>0</td>\n",
       "      <td>0</td>\n",
       "      <td>0</td>\n",
       "      <td>0</td>\n",
       "    </tr>\n",
       "    <tr>\n",
       "      <th>83</th>\n",
       "      <td>0</td>\n",
       "      <td>0</td>\n",
       "      <td>0</td>\n",
       "      <td>0</td>\n",
       "      <td>0</td>\n",
       "      <td>0</td>\n",
       "      <td>0</td>\n",
       "      <td>0</td>\n",
       "      <td>0</td>\n",
       "      <td>0</td>\n",
       "      <td>...</td>\n",
       "      <td>0</td>\n",
       "      <td>0</td>\n",
       "      <td>0</td>\n",
       "      <td>0</td>\n",
       "      <td>0</td>\n",
       "      <td>0</td>\n",
       "      <td>0</td>\n",
       "      <td>0</td>\n",
       "      <td>0</td>\n",
       "      <td>0</td>\n",
       "    </tr>\n",
       "  </tbody>\n",
       "</table>\n",
       "<p>3 rows × 1670 columns</p>\n",
       "</div>"
      ],
      "text/plain": [
       "     ability  able  abortion  abortions  about  above  abroad  abrupt  \\\n",
       "110        0     0         0          0      0      0       0       0   \n",
       "97         0     0         0          0      0      0       0       0   \n",
       "83         0     0         0          0      0      0       0       0   \n",
       "\n",
       "     acclaimed  according  ...  yoruba  yorubas  young  younger  youngness  \\\n",
       "110          0          0  ...       0        0      0        0          1   \n",
       "97           0          0  ...       0        0      0        0          0   \n",
       "83           0          0  ...       0        0      0        0          0   \n",
       "\n",
       "     your  youth  zmianie  zoomers  zuki  \n",
       "110     0      0        0        0     2  \n",
       "97      0      0        0        0     0  \n",
       "83      0      0        0        0     0  \n",
       "\n",
       "[3 rows x 1670 columns]"
      ]
     },
     "execution_count": 55,
     "metadata": {},
     "output_type": "execute_result"
    }
   ],
   "source": [
    "print('------------------- X_test -------------------')\n",
    "X_test.head(3)"
   ]
  },
  {
   "cell_type": "code",
   "execution_count": 56,
   "metadata": {},
   "outputs": [
    {
     "name": "stdout",
     "output_type": "stream",
     "text": [
      "------------------- y_train -------------------\n"
     ]
    },
    {
     "data": {
      "text/plain": [
       "196    negative\n",
       "55     positive\n",
       "157    negative\n",
       "Name: label, dtype: object"
      ]
     },
     "execution_count": 56,
     "metadata": {},
     "output_type": "execute_result"
    }
   ],
   "source": [
    "print('------------------- y_train -------------------')\n",
    "y_train.head(3)"
   ]
  },
  {
   "cell_type": "code",
   "execution_count": 57,
   "metadata": {},
   "outputs": [
    {
     "name": "stdout",
     "output_type": "stream",
     "text": [
      "------------------- y_test -------------------\n"
     ]
    },
    {
     "data": {
      "text/plain": [
       "110    positive\n",
       "97     positive\n",
       "83     positive\n",
       "Name: label, dtype: object"
      ]
     },
     "execution_count": 57,
     "metadata": {},
     "output_type": "execute_result"
    }
   ],
   "source": [
    "print('------------------- y_test -------------------')\n",
    "y_test.head(3)"
   ]
  },
  {
   "cell_type": "markdown",
   "metadata": {},
   "source": [
    "#### Model Training: MultinomilaNB\n",
    "\n",
    "Train the MultinomilaNB model using training data:"
   ]
  },
  {
   "cell_type": "code",
   "execution_count": 58,
   "metadata": {},
   "outputs": [
    {
     "data": {
      "text/plain": [
       "MultinomialNB()"
      ]
     },
     "execution_count": 58,
     "metadata": {},
     "output_type": "execute_result"
    }
   ],
   "source": [
    "model = MultinomialNB()\n",
    "model.fit(X_train, y_train)"
   ]
  },
  {
   "cell_type": "markdown",
   "metadata": {},
   "source": [
    "Make predictions using the trained MultinomialNB model:"
   ]
  },
  {
   "cell_type": "code",
   "execution_count": 59,
   "metadata": {},
   "outputs": [],
   "source": [
    "y_test_pred = model.predict(X_test)\n",
    "y_train_pred = model.predict(X_train)"
   ]
  },
  {
   "cell_type": "markdown",
   "metadata": {},
   "source": [
    "Calculate the accuracy of the model prediction:"
   ]
  },
  {
   "cell_type": "code",
   "execution_count": 61,
   "metadata": {},
   "outputs": [
    {
     "name": "stdout",
     "output_type": "stream",
     "text": [
      "-------------------- TRAINING SET ACCURACY CALCULATION -------------------\n",
      "Accuracy: 92.45283018867924\n",
      "Number of mislabeled points out of a total 212 points = 16\n",
      "--- Real Train Data: --- \n",
      " [['negative' 69]\n",
      " ['neutral' 13]\n",
      " ['positive' 130]]\n",
      "--- Train Data Prediction: --- \n",
      " [['negative' '64']\n",
      " ['neutral' '7']\n",
      " ['positive' '141']]\n",
      "-------------------- TESTING SET ACCURACY CALCULATION -------------------\n",
      "Accuracy: 56.60377358490566\n",
      "Number of mislabeled points out of a total 53 points = 23\n",
      "--- Real Test Data: --- \n",
      " [['negative' 17]\n",
      " ['neutral' 5]\n",
      " ['positive' 31]]\n",
      "--- Test Data Prediction: --- \n",
      " [['negative' '18']\n",
      " ['neutral' '4']\n",
      " ['positive' '31']]\n"
     ]
    }
   ],
   "source": [
    "from sklearn import metrics\n",
    "\n",
    "# Training Set\n",
    "print('-------------------- TRAINING SET ACCURACY CALCULATION -------------------')\n",
    "print('Accuracy:', 100 * metrics.accuracy_score(y_train, y_train_pred))\n",
    "# compare prediction of x_train with y_train\n",
    "train_compare = (y_train_pred == y_train)\n",
    "print('Number of mislabeled points out of a total 212 points =', np.size(train_compare) - np.count_nonzero(train_compare))\n",
    "# more detailed comparison\n",
    "true_train, true_train_count = np.unique(y_train, return_counts=True)\n",
    "pred_train, pred_train_count = np.unique(y_train_pred, return_counts=True)\n",
    "print('--- Real Train Data: --- \\n', np.asarray((true_train, true_train_count)).T)\n",
    "print('--- Train Data Prediction: --- \\n', np.asarray((pred_train, pred_train_count)).T)\n",
    "\n",
    "# Testing Set\n",
    "print('-------------------- TESTING SET ACCURACY CALCULATION -------------------')\n",
    "print('Accuracy:', 100 * metrics.accuracy_score(y_test, y_test_pred))\n",
    "# compare prediction of x_test with y_test\n",
    "test_compare = (y_test_pred == y_test)\n",
    "print('Number of mislabeled points out of a total 53 points =', np.size(test_compare) - np.count_nonzero(test_compare))\n",
    "# more detailed comparison\n",
    "true_test, true_test_count = np.unique(y_test, return_counts=True)\n",
    "pred_test, pred_test_count = np.unique(y_test_pred, return_counts=True)\n",
    "print('--- Real Test Data: --- \\n', np.asarray((true_test, true_test_count)).T)\n",
    "print('--- Test Data Prediction: --- \\n', np.asarray((pred_test, pred_test_count)).T)"
   ]
  },
  {
   "cell_type": "markdown",
   "metadata": {},
   "source": [
    "From the accuracy calculations above, we can see that although the trained MultinomialNB model performed a nice prediction on the training data with around 92.45% accuracy, the prediction accuracy of the testing data was only around 56.60%. Based on the testing data provided, the model only predict 30 out of 53 records correctly. "
   ]
  },
  {
   "cell_type": "markdown",
   "metadata": {},
   "source": [
    "#### Visualize fitting results\n",
    "Confusion Matrix"
   ]
  },
  {
   "cell_type": "code",
   "execution_count": 62,
   "metadata": {},
   "outputs": [
    {
     "data": {
      "text/plain": [
       "array([[ 8,  0,  9],\n",
       "       [ 1,  2,  2],\n",
       "       [ 9,  2, 20]])"
      ]
     },
     "execution_count": 62,
     "metadata": {},
     "output_type": "execute_result"
    }
   ],
   "source": [
    "# Confusion Matrix\n",
    "from sklearn.metrics import ConfusionMatrixDisplay\n",
    "\n",
    "metrics.confusion_matrix(y_test, y_test_pred)"
   ]
  },
  {
   "cell_type": "code",
   "execution_count": 43,
   "metadata": {},
   "outputs": [
    {
     "data": {
      "image/png": "[encoded data removed]",
      "text/plain": [
       "<Figure size 640x480 with 2 Axes>"
      ]
     },
     "metadata": {},
     "output_type": "display_data"
    }
   ],
   "source": [
    "import matplotlib.pyplot as plt\n",
    "CMP_NB = ConfusionMatrixDisplay.from_predictions(y_test, y_test_pred)"
   ]
  },
  {
   "cell_type": "code",
   "execution_count": 65,
   "metadata": {},
   "outputs": [
    {
     "name": "stdout",
     "output_type": "stream",
     "text": [
      "              precision    recall  f1-score   support\n",
      "\n",
      "    negative       0.44      0.47      0.46        17\n",
      "     neutral       0.50      0.40      0.44         5\n",
      "    positive       0.65      0.65      0.65        31\n",
      "\n",
      "    accuracy                           0.57        53\n",
      "   macro avg       0.53      0.51      0.52        53\n",
      "weighted avg       0.57      0.57      0.57        53\n",
      "\n"
     ]
    }
   ],
   "source": [
    "from sklearn.metrics import classification_report\n",
    "\n",
    "print(classification_report(y_test, y_test_pred))"
   ]
  },
  {
   "cell_type": "code",
   "execution_count": 74,
   "metadata": {},
   "outputs": [
    {
     "data": {
      "text/plain": [
       "[<matplotlib.lines.Line2D at 0x7febc3e1aca0>]"
      ]
     },
     "execution_count": 74,
     "metadata": {},
     "output_type": "execute_result"
    },
    {
     "data": {
      "image/png": "[encoded data removed]",
      "text/plain": [
       "<Figure size 640x480 with 1 Axes>"
      ]
     },
     "metadata": {},
     "output_type": "display_data"
    }
   ],
   "source": [
    "plt.plot(y_train, \"o\", color='pink')\n",
    "plt.plot(y_train_pred, \"x\", color = 'blue')\n",
    "#plt.plot(y_test, y_test_pred, \"o\", color='b')"
   ]
  },
  {
   "cell_type": "markdown",
   "metadata": {},
   "source": [
    "Based on the confusion matrix generated for this multi-class classification task, the classification report, as well as the comparison plot above, we can see the prediction is realtively low on precision, recall, F1-score, indicating that the Multinomial NB model trained using the training data did not do a good job on predicting the testing data. The possible reasons for the low prediction accuracy could be:\n",
    "1. the size of the text data is very small\n",
    "2. the data is poorly balanced in terms of the labels\n",
    "3. the model might be under-fitting or over-fitting"
   ]
  }
 ],
 "metadata": {
  "kernelspec": {
   "display_name": "Python 3 (ipykernel)",
   "language": "python",
   "name": "python3"
  },
  "language_info": {
   "codemirror_mode": {
    "name": "ipython",
    "version": 3
   },
   "file_extension": ".py",
   "mimetype": "text/x-python",
   "name": "python",
   "nbconvert_exporter": "python",
   "pygments_lexer": "ipython3",
   "version": "3.9.13"
  },
  "vscode": {
   "interpreter": {
    "hash": "05c1a7bbde9bc8adbf4ebe570f0c15966771aac39571f06705b653ef923027cb"
   }
  }
 },
 "nbformat": 4,
 "nbformat_minor": 2
}
